{
 "cells": [
  {
   "cell_type": "code",
   "execution_count": 6,
   "metadata": {
    "collapsed": false
   },
   "outputs": [],
   "source": [
    "import ctypes\n",
    "from pympler import asizeof\n",
    "\n",
    "class DynamicArray:\n",
    "    def getsize(self):\n",
    "        import sys\n",
    "        return sys.getsizeof(self._A)\n",
    "    \n",
    "    def ToString(self):\n",
    "        for i in self._A:\n",
    "            print(i, \" \")\n",
    "            \n",
    "    def getLength(self):\n",
    "        return len(self._A)\n",
    "    \n",
    "    def __init__(self):\n",
    "        self._n=0\n",
    "        self._capacity=1\n",
    "        self._A=self._make_array(self._capacity)\n",
    "        \n",
    "    def __len__(self):\n",
    "        return self._n\n",
    "    \n",
    "    def __getitem__(self,k):\n",
    "        if not 0 <= k <self._n:\n",
    "            raise IndexError('invalid index')\n",
    "        return self._A[k]\n",
    "    \n",
    "    def append(self,obj):\n",
    "        if self._n == self._capacity: #kapasite yeterli degilse, kapasiteyi 2'ye katla.\n",
    "            self._resize(2*self._capacity)\n",
    "        self._A[self._n]=obj\n",
    "        self._n+=1\n",
    "        \n",
    "    def _resize(self, c): # nonpublic utitity\n",
    "        print(\"su an worst-case durumunda , liste dolu, başka yerden n*2 lik yer alınıp taşıma yapılacak\")\n",
    "        B = self._make_array(c) # new (bigger) array\n",
    "        for k in range(self._n): # for each existing value\n",
    "            B[k] = self._A[k]\n",
    "        self._A=B # use the bigger array\n",
    "        self._capacity = c\n",
    "        \n",
    "    def _make_array(self, c): # nonpublic utitity\n",
    "        return(c*ctypes.py_object)()"
   ]
  },
  {
   "cell_type": "code",
   "execution_count": 8,
   "metadata": {
    "collapsed": false
   },
   "outputs": [
    {
     "name": "stdout",
     "output_type": "stream",
     "text": [
      "0 eklendi , dizi boyutu : 1\n",
      "su an worst-case durumunda , liste dolu, başka yerden n*2 lik yer alınıp taşıma yapılacak\n",
      "1 eklendi , dizi boyutu : 2\n",
      "su an worst-case durumunda , liste dolu, başka yerden n*2 lik yer alınıp taşıma yapılacak\n",
      "2 eklendi , dizi boyutu : 4\n",
      "3 eklendi , dizi boyutu : 4\n",
      "su an worst-case durumunda , liste dolu, başka yerden n*2 lik yer alınıp taşıma yapılacak\n",
      "4 eklendi , dizi boyutu : 8\n",
      "5 eklendi , dizi boyutu : 8\n",
      "6 eklendi , dizi boyutu : 8\n",
      "7 eklendi , dizi boyutu : 8\n",
      "su an worst-case durumunda , liste dolu, başka yerden n*2 lik yer alınıp taşıma yapılacak\n",
      "8 eklendi , dizi boyutu : 16\n",
      "9 eklendi , dizi boyutu : 16\n",
      "10 eklendi , dizi boyutu : 16\n",
      "11 eklendi , dizi boyutu : 16\n",
      "12 eklendi , dizi boyutu : 16\n",
      "13 eklendi , dizi boyutu : 16\n",
      "14 eklendi , dizi boyutu : 16\n",
      "15 eklendi , dizi boyutu : 16\n",
      "su an worst-case durumunda , liste dolu, başka yerden n*2 lik yer alınıp taşıma yapılacak\n",
      "16 eklendi , dizi boyutu : 32\n",
      "17 eklendi , dizi boyutu : 32\n",
      "18 eklendi , dizi boyutu : 32\n",
      "19 eklendi , dizi boyutu : 32\n",
      "20 eklendi , dizi boyutu : 32\n",
      "21 eklendi , dizi boyutu : 32\n",
      "22 eklendi , dizi boyutu : 32\n",
      "23 eklendi , dizi boyutu : 32\n",
      "24 eklendi , dizi boyutu : 32\n",
      "25 eklendi , dizi boyutu : 32\n",
      "26 eklendi , dizi boyutu : 32\n",
      "27 eklendi , dizi boyutu : 32\n",
      "28 eklendi , dizi boyutu : 32\n",
      "29 eklendi , dizi boyutu : 32\n",
      "30 eklendi , dizi boyutu : 32\n",
      "31 eklendi , dizi boyutu : 32\n",
      "su an worst-case durumunda , liste dolu, başka yerden n*2 lik yer alınıp taşıma yapılacak\n",
      "32 eklendi , dizi boyutu : 64\n"
     ]
    }
   ],
   "source": [
    "c=DynamicArray()\n",
    "for i in range(33):\n",
    "    c.append(\" add an item\"+str(i))\n",
    "    print(str(i)+\" eklendi , dizi boyutu : \"+str(c.getLength()))  #c.__len__()  de olur"
   ]
  },
  {
   "cell_type": "code",
   "execution_count": null,
   "metadata": {
    "collapsed": true
   },
   "outputs": [],
   "source": []
  }
 ],
 "metadata": {
  "kernelspec": {
   "display_name": "Python [default]",
   "language": "python",
   "name": "python3"
  },
  "language_info": {
   "codemirror_mode": {
    "name": "ipython",
    "version": 3
   },
   "file_extension": ".py",
   "mimetype": "text/x-python",
   "name": "python",
   "nbconvert_exporter": "python",
   "pygments_lexer": "ipython3",
   "version": "3.5.2"
  }
 },
 "nbformat": 4,
 "nbformat_minor": 1
}
