{
 "cells": [
  {
   "cell_type": "code",
   "execution_count": 1,
   "metadata": {
    "collapsed": false
   },
   "outputs": [
    {
     "name": "stdout",
     "output_type": "stream",
     "text": [
      "1 Tane 50\n",
      "1 Tane 50\n",
      "1 Tane 50\n",
      "1 Tane 50\n",
      "1 Tane 50\n",
      "1 Tane 25\n",
      "1 Tane 10\n",
      "1 Tane 5\n",
      "1 Tane 1\n",
      "1 Tane 1\n",
      "1 Tane 1\n",
      "toplam para sayısı: 11\n"
     ]
    }
   ],
   "source": [
    "#normal fonk Paraustu en az sayıda\n",
    "def minparabul(para,paralist):\n",
    "    kacfarkli=0\n",
    "    while(para):\n",
    "        for i in range(len(paralist)-1,-1,-1):\n",
    "            if(paralist[i]<=para):\n",
    "                para=para-paralist[i]\n",
    "                print(\"1 Tane\",paralist[i])\n",
    "                kacfarkli=kacfarkli+1\n",
    "                break\n",
    "    return kacfarkli\n",
    "\n",
    "print(\"toplam para sayısı:\",minparabul(293,[1,5,10,25,50]))"
   ]
  },
  {
   "cell_type": "code",
   "execution_count": 2,
   "metadata": {
    "collapsed": false
   },
   "outputs": [
    {
     "data": {
      "text/plain": [
       "6"
      ]
     },
     "execution_count": 2,
     "metadata": {},
     "output_type": "execute_result"
    }
   ],
   "source": [
    "#recursive fonk Paraustu en az sayıda\n",
    "def recMC(coinValueList,change):\n",
    "    minCoins=change\n",
    "    if(change in coinValueList): #bozuk para listesinde var ise 1\n",
    "        return 1\n",
    "    else:\n",
    "        for i in [c for c in coinValueList if c<=change]:\n",
    "            numCoins=1+recMC(coinValueList,change-i)\n",
    "            if(numCoins<minCoins):\n",
    "                minCoins=numCoins\n",
    "    return minCoins\n",
    "\n",
    "recMC([1,5,10,25,50],43)"
   ]
  },
  {
   "cell_type": "code",
   "execution_count": 3,
   "metadata": {
    "collapsed": false
   },
   "outputs": [
    {
     "name": "stdout",
     "output_type": "stream",
     "text": [
      "233 377 610 987 1597 2584 4181 6765 10946 17711 28657 46368 75025 121393 196418 317811 514229 832040 1346269 2178309 3524578 5702887 9227465 14930352 24157817 39088169 63245986 102334155 165580141 267914296 433494437 701408733 1134903170 1836311903 2971215073 4807526976 7778742049 "
     ]
    }
   ],
   "source": [
    "def rec_fb(n,result): #fibonacci optimizasyon\n",
    "    if n<2:\n",
    "        return n\n",
    "    elif(result[n]!=0): #elde ettiğim değerleri hafızadan direk al eüer yoksa else girip hesap yap\n",
    "        return result[n]\n",
    "    else:\n",
    "        result[n]=rec_fb(n-1,result)+rec_fb(n-2,result)\n",
    "        return result[n]\n",
    "    \n",
    "rec_fb(20,[0]*21)\n",
    "for i in range(13,50):\n",
    "    print(rec_fb(i,[0]*(i+1)),end=\" \")"
   ]
  },
  {
   "cell_type": "code",
   "execution_count": 4,
   "metadata": {
    "collapsed": false
   },
   "outputs": [
    {
     "name": "stdout",
     "output_type": "stream",
     "text": [
      "8   4\n",
      "9   5\n",
      "10   1\n",
      "11   2\n",
      "12   3\n",
      "13   4\n",
      "14   5\n",
      "15   2\n",
      "16   3\n",
      "17   4\n",
      "18   5\n",
      "19   6\n"
     ]
    }
   ],
   "source": [
    "#Fibonacide uyguladığımız optimizasyonun aynı mantığını para ustu fonksiyonumuza uygulayalım\n",
    "def recMC2(coinValueList,change,knownResults):\n",
    "    minCoins=change\n",
    "    if(change in coinValueList): #bozuk para listesinde var ise 1\n",
    "        knownResults[change]=1\n",
    "        return 1\n",
    "    else:\n",
    "        for i in [c for c in coinValueList if c<=change]:\n",
    "            numCoins=1+recMC2(coinValueList,change-i,knownResults)\n",
    "            if(numCoins<minCoins):\n",
    "                minCoins=numCoins\n",
    "                knownResults[change]=minCoins\n",
    "    return minCoins\n",
    "\n",
    "for i in range(8,20):\n",
    "    print(i,\" \",recMC2([1,5,10,25,50],i,[0]*(i+1)))"
   ]
  },
  {
   "cell_type": "code",
   "execution_count": null,
   "metadata": {
    "collapsed": true
   },
   "outputs": [],
   "source": []
  }
 ],
 "metadata": {
  "anaconda-cloud": {},
  "kernelspec": {
   "display_name": "Python [default]",
   "language": "python",
   "name": "python3"
  },
  "language_info": {
   "codemirror_mode": {
    "name": "ipython",
    "version": 3
   },
   "file_extension": ".py",
   "mimetype": "text/x-python",
   "name": "python",
   "nbconvert_exporter": "python",
   "pygments_lexer": "ipython3",
   "version": "3.5.2"
  }
 },
 "nbformat": 4,
 "nbformat_minor": 1
}
