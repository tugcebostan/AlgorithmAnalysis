{
 "cells": [
  {
   "cell_type": "code",
   "execution_count": 86,
   "metadata": {
    "collapsed": true
   },
   "outputs": [],
   "source": [
    "# matrix_1 mxn\n",
    "# matrix_2 nxp\n",
    "# matrix_3=matrix_1 * matrix_2   , mxp"
   ]
  },
  {
   "cell_type": "code",
   "execution_count": 87,
   "metadata": {
    "collapsed": false
   },
   "outputs": [
    {
     "data": {
      "text/plain": [
       "70"
      ]
     },
     "execution_count": 87,
     "metadata": {},
     "output_type": "execute_result"
    }
   ],
   "source": [
    "import numpy as np\n",
    "\n",
    "def get_value_from_row_col(r_1,c_1):   # karşmaşıklığı O(n) --> r_1 ve c_1 in uzunluklarına karşılık gelmekte\n",
    "    t=0\n",
    "    for i in range(len(r_1)):\n",
    "        t=t+r_1[i]*c_1[i]\n",
    "    return t\n",
    "\n",
    "a=[1,2,3,4]\n",
    "b=[5,6,7,8]\n",
    "get_value_from_row_col(a,b)"
   ]
  },
  {
   "cell_type": "code",
   "execution_count": 88,
   "metadata": {
    "collapsed": false
   },
   "outputs": [
    {
     "name": "stdout",
     "output_type": "stream",
     "text": [
      "[2, 6]\n"
     ]
    }
   ],
   "source": [
    "b=[[1,2,3,4],[5,6,7,8],[1,2,3,4],[5,6,7,8]] # 4x4\n",
    "a=[[1,2,3,4],[5,6,7,8]] # 2x4\n",
    "#a*b tanımlı  ,  b*a tanımsız\n",
    "\n",
    "def get_row_from_matrix(a,i):\n",
    "    return a[i]\n",
    "def get_col_from_matrix(a,j):\n",
    "    col=[]\n",
    "    for i in range(len(a)):   # for i in a\n",
    "        col.append(a[i][j])   # col.append(i[j])\n",
    "    return col\n",
    "\n",
    "print(get_col_from_matrix(a,1))"
   ]
  },
  {
   "cell_type": "code",
   "execution_count": 89,
   "metadata": {
    "collapsed": false
   },
   "outputs": [],
   "source": [
    "def matrix_multiply(m_1,m_2):   # O(m.n.p)  Amxn Bnxp = Cmp,  --> eğer matrix kareyse O(n^3)\n",
    "    m=len(m_1) #satır sayısı\n",
    "    n=len(m_2[0]) #sutun sayısı\n",
    "    r=np.zeros((m,n)) #r[]\n",
    "    for i in range(m):\n",
    "        for j in range(n):\n",
    "            a=get_row_from_matrix(m_1,i)\n",
    "            b=get_col_from_matrix(m_2,j)\n",
    "            c=get_value_from_row_col(a,b)\n",
    "            r[i][j]=c #r[i].append(c)\n",
    "    return r.tolist()"
   ]
  },
  {
   "cell_type": "code",
   "execution_count": 90,
   "metadata": {
    "collapsed": false
   },
   "outputs": [
    {
     "name": "stdout",
     "output_type": "stream",
     "text": [
      "[[34.0, 44.0, 54.0, 64.0], [82.0, 108.0, 134.0, 160.0]]\n"
     ]
    },
    {
     "data": {
      "text/plain": [
       "44.0"
      ]
     },
     "execution_count": 90,
     "metadata": {},
     "output_type": "execute_result"
    }
   ],
   "source": [
    "d=matrix_multiply(a,b)\n",
    "print(d)\n",
    "d[0][1]"
   ]
  },
  {
   "cell_type": "code",
   "execution_count": null,
   "metadata": {
    "collapsed": true
   },
   "outputs": [],
   "source": []
  }
 ],
 "metadata": {
  "anaconda-cloud": {},
  "kernelspec": {
   "display_name": "Python [default]",
   "language": "python",
   "name": "python3"
  },
  "language_info": {
   "codemirror_mode": {
    "name": "ipython",
    "version": 3
   },
   "file_extension": ".py",
   "mimetype": "text/x-python",
   "name": "python",
   "nbconvert_exporter": "python",
   "pygments_lexer": "ipython3",
   "version": "3.5.2"
  }
 },
 "nbformat": 4,
 "nbformat_minor": 1
}
