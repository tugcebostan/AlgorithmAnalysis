{
 "cells": [
  {
   "cell_type": "code",
   "execution_count": 68,
   "metadata": {
    "collapsed": false
   },
   "outputs": [
    {
     "name": "stdout",
     "output_type": "stream",
     "text": [
      "Recursive olmayan :  2  üzeri  8  değeri :  256 çağrım sayısı:  8\n",
      "2  üzeri 8  değeri 256  çağrım sayısı :  4\n",
      "2  üzeri 16  değeri 65536  çağrım sayısı :  5\n",
      "2  üzeri 32  değeri 4294967296  çağrım sayısı :  6\n",
      "2  üzeri 8  değeri 256  çağrım sayısı :  4\n"
     ]
    }
   ],
   "source": [
    "#derste yapılan\n",
    "sayac=0\n",
    "def power_1(m,n):\n",
    "    t=1\n",
    "    global sayac\n",
    "    for i in range(n):\n",
    "        sayac=sayac+1\n",
    "        t=t*m\n",
    "    return (t,sayac)\n",
    "\n",
    "def call_report(x,y):\n",
    "    global sayac\n",
    "    sayac=0\n",
    "    r=power_1(x,y)\n",
    "    print(\"Recursive olmayan : \",x,\" üzeri \", y,\" değeri : \",r[0],\"çağrım sayısı: \",r[1])\n",
    "\n",
    "def power_2(x,n):\n",
    "    global sayac\n",
    "    sayac=sayac+1\n",
    "    if(n==0):\n",
    "        return 1\n",
    "    if(n==1):\n",
    "        return x\n",
    "    if(n%2==0):\n",
    "        return power_2(x*x,int(n/2))\n",
    "    else:\n",
    "        return power_2(x*x,int(n/2))*x\n",
    "    \n",
    "def call_report_recursive(x,y):\n",
    "    global sayac\n",
    "    sayac=0\n",
    "    r=power_2(x,y)\n",
    "    print(x,\" üzeri\", y,\" değeri\",r ,\" çağrım sayısı : \",sayac)\n",
    "    \n",
    "call_report(2,8)\n",
    "call_report_recursive(2,8)\n",
    "call_report_recursive(2,16)\n",
    "call_report_recursive(2,32)\n",
    "call_report_recursive(2,8)"
   ]
  },
  {
   "cell_type": "code",
   "execution_count": 69,
   "metadata": {
    "collapsed": false
   },
   "outputs": [],
   "source": [
    "#kendi yaptığım\n",
    "def power_recursive(x,y):\n",
    "    global s\n",
    "    s=0\n",
    "    print(x,\" üzeri \",y,\" sonucu =\",power_recursive2(x,y),\" || Bulduğu adım sayısı =\",s)\n",
    "    r=power_recursive2(x,y)\n",
    "    return r\n",
    "\n",
    "def power_recursive2(x,y):\n",
    "    global s\n",
    "    s=s+1\n",
    "    if(y==0):\n",
    "        return 1\n",
    "    if(y==1):\n",
    "        return x\n",
    "    if(y%2==0):\n",
    "        return power_recursive2(x*x,int(y/2))\n",
    "    else:\n",
    "        return power_recursive2(x*x,int(y/2))*x"
   ]
  },
  {
   "cell_type": "code",
   "execution_count": 66,
   "metadata": {
    "collapsed": false
   },
   "outputs": [
    {
     "name": "stdout",
     "output_type": "stream",
     "text": [
      "2  üzeri  16  sonucu = 65536  || Bulduğu adım sayısı = 5\n"
     ]
    },
    {
     "data": {
      "text/plain": [
       "65536"
      ]
     },
     "execution_count": 66,
     "metadata": {},
     "output_type": "execute_result"
    }
   ],
   "source": [
    "power_recursive(2,16)"
   ]
  },
  {
   "cell_type": "code",
   "execution_count": null,
   "metadata": {
    "collapsed": true
   },
   "outputs": [],
   "source": []
  },
  {
   "cell_type": "code",
   "execution_count": null,
   "metadata": {
    "collapsed": true
   },
   "outputs": [],
   "source": []
  }
 ],
 "metadata": {
  "anaconda-cloud": {},
  "kernelspec": {
   "display_name": "Python [default]",
   "language": "python",
   "name": "python3"
  },
  "language_info": {
   "codemirror_mode": {
    "name": "ipython",
    "version": 3
   },
   "file_extension": ".py",
   "mimetype": "text/x-python",
   "name": "python",
   "nbconvert_exporter": "python",
   "pygments_lexer": "ipython3",
   "version": "3.5.2"
  }
 },
 "nbformat": 4,
 "nbformat_minor": 1
}
